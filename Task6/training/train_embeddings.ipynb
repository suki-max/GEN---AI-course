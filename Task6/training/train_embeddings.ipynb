{
 "cells": [
  {
   "cell_type": "code",
   "execution_count": 4,
   "id": "8133ee43",
   "metadata": {},
   "outputs": [
    {
     "name": "stdout",
     "output_type": "stream",
     "text": [
      "CSV has no data rows—skipping processing.\n"
     ]
    }
   ],
   "source": [
    "import os\n",
    "import pandas as pd\n",
    "from pandas.errors import EmptyDataError\n",
    "from tqdm.auto import tqdm\n",
    "from langchain.text_splitter import TokenTextSplitter\n",
    "from langchain_community.vectorstores import FAISS\n",
    "from langchain_huggingface.embeddings import HuggingFaceEmbeddings\n",
    "\n",
    "path = \"../data/arxiv_cs_subset.csv\"\n",
    "assert os.path.exists(path), f\"{path} not found!\"\n",
    "\n",
    "# Step 1: Check if file is really empty or header-only\n",
    "with open(path, \"r\", encoding=\"utf-8\") as f:\n",
    "    lines = [ln for ln in f if ln.strip() and not ln.startswith(\"#\")]\n",
    "if len(lines) <= 1:\n",
    "    print(\"CSV has no data rows—skipping processing.\")\n",
    "else:\n",
    "    try:\n",
    "        df = pd.read_csv(path,\n",
    "                         sep=None,\n",
    "                         engine=\"python\",\n",
    "                         encoding=\"utf-8\",\n",
    "                         skip_blank_lines=True,\n",
    "                         comment=\"#\")\n",
    "    except EmptyDataError:\n",
    "        print(\"EmptyDataError: CSV is empty or misformatted—skipping.\")\n",
    "        df = pd.DataFrame()  # fallback\n",
    "    if df.empty:\n",
    "        print(\"DataFrame empty after read—nothing to process.\")\n",
    "    else:\n",
    "        required = {\"title\", \"abstract\", \"categories\"}\n",
    "        if not required.issubset(df.columns):\n",
    "            raise KeyError(f\"Missing one of {required} in CSV: got {df.columns.tolist()}\")\n",
    "\n",
    "        df = df.dropna(subset=[\"title\", \"abstract\"])\n",
    "        df = df[df[\"categories\"].str.contains(r\"cs\\.\")].reset_index(drop=True)\n",
    "        if df.empty:\n",
    "            print(\"Filtered DataFrame has no CS entries—nothing to process.\")\n",
    "        else:\n",
    "            df[\"content\"] = df[\"title\"] + \"\\n\" + df[\"abstract\"]\n",
    "            texts = df[\"content\"].tolist()\n",
    "\n",
    "            splitter = TokenTextSplitter.from_tiktoken_encoder(\n",
    "                encoding_name=\"cl100k_base\",\n",
    "                chunk_size=512,\n",
    "                chunk_overlap=64\n",
    "            )\n",
    "\n",
    "            docs = []\n",
    "            for idx, txt in enumerate(tqdm(texts, desc=\"Chunking docs\")):\n",
    "                chunks = splitter.create_documents([txt])\n",
    "                for chunk in chunks:\n",
    "                    chunk.metadata = {\"source_index\": idx}\n",
    "                    docs.append(chunk)\n",
    "\n",
    "            embeddings = HuggingFaceEmbeddings(\n",
    "                model_name=\"sentence-transformers/all-MiniLM-L6-v2\",\n",
    "                model_kwargs={\"device\": \"cpu\"}\n",
    "            )\n",
    "\n",
    "            vectorstore = None\n",
    "            with tqdm(total=len(docs), desc=\"Ingesting docs\") as pbar:\n",
    "                for doc in docs:\n",
    "                    if vectorstore:\n",
    "                        vectorstore.add_documents([doc])\n",
    "                    else:\n",
    "                        vectorstore = FAISS.from_documents([doc], embeddings)\n",
    "                    pbar.update(1)\n",
    "\n",
    "            os.makedirs(\"../embeddings\", exist_ok=True)\n",
    "            vectorstore.save_local(\"../embeddings/index\")\n",
    "\n",
    "            print(\"Index built and saved successfully.\")\n"
   ]
  }
 ],
 "metadata": {
  "kernelspec": {
   "display_name": "Python 3",
   "language": "python",
   "name": "python3"
  },
  "language_info": {
   "codemirror_mode": {
    "name": "ipython",
    "version": 3
   },
   "file_extension": ".py",
   "mimetype": "text/x-python",
   "name": "python",
   "nbconvert_exporter": "python",
   "pygments_lexer": "ipython3",
   "version": "3.13.2"
  }
 },
 "nbformat": 4,
 "nbformat_minor": 5
}
